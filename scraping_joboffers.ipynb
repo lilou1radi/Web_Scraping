{
 "cells": [
  {
   "cell_type": "markdown",
   "metadata": {},
   "source": [
    "# Importation des bibliothèques "
   ]
  },
  {
   "cell_type": "code",
   "execution_count": 1,
   "metadata": {},
   "outputs": [],
   "source": [
    "from selenium import webdriver \n",
    "from selenium.webdriver.common.keys import Keys\n",
    "\n",
    "from bs4 import BeautifulSoup\n",
    "import requests\n",
    "import pandas as pd\n",
    "from tqdm import tqdm\n",
    "import time\n",
    "from lxml import etree\n",
    "import re\n",
    "from langdetect import detect\n"
   ]
  },
  {
   "cell_type": "markdown",
   "metadata": {},
   "source": [
    "# Extraction des données"
   ]
  },
  {
   "cell_type": "code",
   "execution_count": null,
   "metadata": {},
   "outputs": [],
   "source": [
    "browser=webdriver.Chrome(r'C:\\Users\\dell\\Desktop\\google chrome version 92\\chromedriver.exe')\n",
    "\n",
    "browser.get(\"https://www.linkedin.com/jobs/search?keywords=&location=%23Belgique&geoId=&trk=homepage-jobseeker_jobs-search-bar_search-submit&position=1&pageNum=0\")"
   ]
  },
  {
   "cell_type": "code",
   "execution_count": 4,
   "metadata": {},
   "outputs": [],
   "source": [
    "\n",
    "links_list=[]\n",
    "current = 1\n",
    "\n",
    "list_=browser.find_elements_by_class_name(\"base-card\")\n",
    "\n",
    "for i in list_:\n",
    "    try:\n",
    "        a = i.find_element_by_tag_name('a')\n",
    "        links_list.append(a.get_property('href'))\n",
    "        current +=1\n",
    "    except:\n",
    "        pass\n",
    "    "
   ]
  },
  {
   "cell_type": "code",
   "execution_count": 5,
   "metadata": {},
   "outputs": [
    {
     "data": {
      "text/plain": [
       "815"
      ]
     },
     "execution_count": 5,
     "metadata": {},
     "output_type": "execute_result"
    }
   ],
   "source": [
    "len(links_list)"
   ]
  },
  {
   "cell_type": "code",
   "execution_count": 6,
   "metadata": {},
   "outputs": [],
   "source": [
    "browser.get(\"https://www.linkedin.com/jobs/search?keywords=&location=maroc&geoId=&trk=public_jobs_jobs-search-bar_search-submit&position=1&pageNum=0\")"
   ]
  },
  {
   "cell_type": "code",
   "execution_count": 7,
   "metadata": {},
   "outputs": [],
   "source": [
    "#Maroc\n",
    "links_list_maroc=[]\n",
    "current = 1\n",
    "list_=browser.find_elements_by_class_name(\"base-card\")\n",
    "for i in list_:\n",
    "    try:\n",
    "        a = i.find_element_by_tag_name('a')\n",
    "        links_list_maroc.append(a.get_property('href'))\n",
    "        current +=1\n",
    "    except:\n",
    "        pass"
   ]
  },
  {
   "cell_type": "code",
   "execution_count": 8,
   "metadata": {},
   "outputs": [
    {
     "data": {
      "text/plain": [
       "833"
      ]
     },
     "execution_count": 8,
     "metadata": {},
     "output_type": "execute_result"
    }
   ],
   "source": [
    "len(links_list_maroc)"
   ]
  },
  {
   "cell_type": "code",
   "execution_count": 9,
   "metadata": {},
   "outputs": [],
   "source": [
    "links_list=links_list+links_list_maroc"
   ]
  },
  {
   "cell_type": "code",
   "execution_count": 10,
   "metadata": {},
   "outputs": [
    {
     "data": {
      "text/plain": [
       "1648"
      ]
     },
     "execution_count": 10,
     "metadata": {},
     "output_type": "execute_result"
    }
   ],
   "source": [
    "len(links_list)"
   ]
  },
  {
   "cell_type": "code",
   "execution_count": 11,
   "metadata": {},
   "outputs": [],
   "source": [
    "browser.get(\"https://www.linkedin.com/jobs/search?keywords=&location=%C3%89tats-Unis&geoId=103644278&trk=public_jobs_jobs-search-bar_search-submit&position=1&pageNum=0\")"
   ]
  },
  {
   "cell_type": "code",
   "execution_count": 12,
   "metadata": {},
   "outputs": [],
   "source": [
    "#Etats-Unis\n",
    "current = 1\n",
    "links_list_USA=[]\n",
    "list_=browser.find_elements_by_class_name(\"base-card\")\n",
    "for i in list_:\n",
    "    try:\n",
    "        a = i.find_element_by_tag_name('a')\n",
    "        links_list_USA.append(a.get_property('href'))\n",
    "        current +=1\n",
    "    except:\n",
    "        pass"
   ]
  },
  {
   "cell_type": "code",
   "execution_count": 13,
   "metadata": {},
   "outputs": [
    {
     "data": {
      "text/plain": [
       "989"
      ]
     },
     "execution_count": 13,
     "metadata": {},
     "output_type": "execute_result"
    }
   ],
   "source": [
    "len(links_list_USA)"
   ]
  },
  {
   "cell_type": "code",
   "execution_count": 14,
   "metadata": {},
   "outputs": [],
   "source": [
    "links_list=links_list+links_list_USA"
   ]
  },
  {
   "cell_type": "code",
   "execution_count": 15,
   "metadata": {},
   "outputs": [
    {
     "data": {
      "text/plain": [
       "2637"
      ]
     },
     "execution_count": 15,
     "metadata": {},
     "output_type": "execute_result"
    }
   ],
   "source": [
    "len(links_list)"
   ]
  },
  {
   "cell_type": "code",
   "execution_count": 16,
   "metadata": {},
   "outputs": [],
   "source": [
    "\n",
    "browser.get(\"https://www.linkedin.com/jobs/search?keywords=&location=Australie&geoId=101452733&trk=homepage-jobseeker_jobs-search-bar_search-submit&position=1&pageNum=0\")"
   ]
  },
  {
   "cell_type": "code",
   "execution_count": 17,
   "metadata": {},
   "outputs": [],
   "source": [
    "#Australie\n",
    "current = 1\n",
    "links_list_Australie=[]\n",
    "list_=browser.find_elements_by_class_name(\"base-card\")\n",
    "for i in list_:\n",
    "    try:\n",
    "        a = i.find_element_by_tag_name('a')\n",
    "        links_list_Australie.append(a.get_property('href'))\n",
    "        current +=1\n",
    "    except:\n",
    "        pass"
   ]
  },
  {
   "cell_type": "code",
   "execution_count": 18,
   "metadata": {},
   "outputs": [],
   "source": [
    "links_list=links_list+links_list_Australie"
   ]
  },
  {
   "cell_type": "code",
   "execution_count": 19,
   "metadata": {},
   "outputs": [
    {
     "data": {
      "text/plain": [
       "3573"
      ]
     },
     "execution_count": 19,
     "metadata": {},
     "output_type": "execute_result"
    }
   ],
   "source": [
    "len(links_list)"
   ]
  },
  {
   "cell_type": "code",
   "execution_count": 22,
   "metadata": {},
   "outputs": [],
   "source": [
    "\n",
    "browser.get(\"https://www.linkedin.com/jobs/search?keywords=&location=Royaume-Uni&geoId=101165590&trk=public_jobs_jobs-search-bar_search-submit&position=1&pageNum=0\")"
   ]
  },
  {
   "cell_type": "code",
   "execution_count": 23,
   "metadata": {},
   "outputs": [],
   "source": [
    "#UK\n",
    "current = 1\n",
    "links_list_UK=[]\n",
    "list_=browser.find_elements_by_class_name(\"base-card\")\n",
    "for i in list_:\n",
    "    try:\n",
    "        a = i.find_element_by_tag_name('a')\n",
    "        links_list_UK.append(a.get_property('href'))\n",
    "        current +=1\n",
    "    except:\n",
    "        pass"
   ]
  },
  {
   "cell_type": "code",
   "execution_count": 24,
   "metadata": {},
   "outputs": [],
   "source": [
    "links_list=links_list+links_list_UK"
   ]
  },
  {
   "cell_type": "code",
   "execution_count": 25,
   "metadata": {},
   "outputs": [
    {
     "data": {
      "text/plain": [
       "4481"
      ]
     },
     "execution_count": 25,
     "metadata": {},
     "output_type": "execute_result"
    }
   ],
   "source": [
    "len(links_list)"
   ]
  },
  {
   "cell_type": "code",
   "execution_count": 26,
   "metadata": {},
   "outputs": [],
   "source": [
    "browser.get(\"https://www.linkedin.com/jobs/search?keywords=&location=chine&geoId=&trk=public_jobs_jobs-search-bar_search-submit&position=1&pageNum=0\")"
   ]
  },
  {
   "cell_type": "code",
   "execution_count": 27,
   "metadata": {},
   "outputs": [],
   "source": [
    "#CHINE\n",
    "current = 1\n",
    "links_list_CHINE=[]\n",
    "list_=browser.find_elements_by_class_name(\"base-card\")\n",
    "for i in list_:\n",
    "    try:\n",
    "        a = i.find_element_by_tag_name('a')\n",
    "        links_list_CHINE.append(a.get_property('href'))\n",
    "        current +=1\n",
    "    except:\n",
    "        pass"
   ]
  },
  {
   "cell_type": "code",
   "execution_count": 28,
   "metadata": {},
   "outputs": [
    {
     "data": {
      "text/plain": [
       "760"
      ]
     },
     "execution_count": 28,
     "metadata": {},
     "output_type": "execute_result"
    }
   ],
   "source": [
    "len(links_list_CHINE)"
   ]
  },
  {
   "cell_type": "code",
   "execution_count": 29,
   "metadata": {},
   "outputs": [],
   "source": [
    "links_list=links_list+links_list_CHINE"
   ]
  },
  {
   "cell_type": "code",
   "execution_count": 30,
   "metadata": {},
   "outputs": [
    {
     "data": {
      "text/plain": [
       "5241"
      ]
     },
     "execution_count": 30,
     "metadata": {},
     "output_type": "execute_result"
    }
   ],
   "source": [
    "len(links_list)"
   ]
  },
  {
   "cell_type": "code",
   "execution_count": 31,
   "metadata": {},
   "outputs": [],
   "source": [
    "browser.get(\"https://www.linkedin.com/jobs/search?keywords=&location=allemagne&geoId=&trk=public_jobs_jobs-search-bar_search-submit&position=1&pageNum=0\")"
   ]
  },
  {
   "cell_type": "code",
   "execution_count": 32,
   "metadata": {},
   "outputs": [],
   "source": [
    "#ALLEMAGNE\n",
    "current = 1\n",
    "links_list_ALLEMAGNE=[]\n",
    "list_=browser.find_elements_by_class_name(\"base-card\")\n",
    "for i in list_:\n",
    "    try:\n",
    "        a = i.find_element_by_tag_name('a')\n",
    "        links_list_ALLEMAGNE.append(a.get_property('href'))\n",
    "        current +=1\n",
    "    except:\n",
    "        pass"
   ]
  },
  {
   "cell_type": "code",
   "execution_count": 33,
   "metadata": {},
   "outputs": [],
   "source": [
    "links_list=links_list+links_list_ALLEMAGNE"
   ]
  },
  {
   "cell_type": "code",
   "execution_count": 34,
   "metadata": {},
   "outputs": [
    {
     "data": {
      "text/plain": [
       "5402"
      ]
     },
     "execution_count": 34,
     "metadata": {},
     "output_type": "execute_result"
    }
   ],
   "source": [
    "len(links_list)"
   ]
  },
  {
   "cell_type": "code",
   "execution_count": 35,
   "metadata": {},
   "outputs": [],
   "source": [
    "browser.get(\"https://www.linkedin.com/jobs/search?keywords=&location=Cor%C3%A9e%20du%20Sud&geoId=105149562&trk=homepage-jobseeker_jobs-search-bar_search-submit&position=1&pageNum=0\")"
   ]
  },
  {
   "cell_type": "code",
   "execution_count": 36,
   "metadata": {},
   "outputs": [],
   "source": [
    "#COREE DU SUD\n",
    "current = 1\n",
    "links_list_CS=[]\n",
    "list_=browser.find_elements_by_class_name(\"base-card\")\n",
    "for i in list_:\n",
    "    try:\n",
    "        a = i.find_element_by_tag_name('a')\n",
    "        links_list_CS.append(a.get_property('href'))\n",
    "        current +=1\n",
    "    except:\n",
    "        pass"
   ]
  },
  {
   "cell_type": "code",
   "execution_count": 37,
   "metadata": {},
   "outputs": [],
   "source": [
    "links_list=links_list+links_list_CS"
   ]
  },
  {
   "cell_type": "code",
   "execution_count": 38,
   "metadata": {},
   "outputs": [
    {
     "data": {
      "text/plain": [
       "6326"
      ]
     },
     "execution_count": 38,
     "metadata": {},
     "output_type": "execute_result"
    }
   ],
   "source": [
    "len(links_list)"
   ]
  },
  {
   "cell_type": "code",
   "execution_count": 39,
   "metadata": {},
   "outputs": [],
   "source": [
    "browser.get(\"https://www.linkedin.com/jobs/search?keywords=&location=finlande&geoId=&trk=public_jobs_jobs-search-bar_search-submit&position=1&pageNum=0\")"
   ]
  },
  {
   "cell_type": "code",
   "execution_count": 40,
   "metadata": {},
   "outputs": [],
   "source": [
    "#Finlande\n",
    "current = 1\n",
    "links_list_Finlande=[]\n",
    "list_=browser.find_elements_by_class_name(\"base-card\")\n",
    "for i in list_:\n",
    "    try:\n",
    "        a = i.find_element_by_tag_name('a')\n",
    "        links_list_Finlande.append(a.get_property('href'))\n",
    "        current +=1\n",
    "    except:\n",
    "        pass"
   ]
  },
  {
   "cell_type": "code",
   "execution_count": 41,
   "metadata": {},
   "outputs": [],
   "source": [
    "links_list=links_list+links_list_Finlande"
   ]
  },
  {
   "cell_type": "code",
   "execution_count": 42,
   "metadata": {},
   "outputs": [
    {
     "data": {
      "text/plain": [
       "7278"
      ]
     },
     "execution_count": 42,
     "metadata": {},
     "output_type": "execute_result"
    }
   ],
   "source": [
    "len(links_list)"
   ]
  },
  {
   "cell_type": "code",
   "execution_count": 43,
   "metadata": {},
   "outputs": [],
   "source": [
    "browser.get(\"https://www.linkedin.com/jobs/search?keywords=&location=Russie&geoId=101728296&trk=public_jobs_jobs-search-bar_search-submit&position=1&pageNum=0\")"
   ]
  },
  {
   "cell_type": "code",
   "execution_count": 44,
   "metadata": {},
   "outputs": [],
   "source": [
    "#Russie\n",
    "current = 1\n",
    "links_list_Russie=[]\n",
    "list_=browser.find_elements_by_class_name(\"base-card\")\n",
    "for i in list_:\n",
    "    try:\n",
    "        a = i.find_element_by_tag_name('a')\n",
    "        links_list_Russie.append(a.get_property('href'))\n",
    "        current +=1\n",
    "    except:\n",
    "        pass"
   ]
  },
  {
   "cell_type": "code",
   "execution_count": 45,
   "metadata": {},
   "outputs": [],
   "source": [
    "links_list=links_list+links_list_Russie"
   ]
  },
  {
   "cell_type": "code",
   "execution_count": 46,
   "metadata": {},
   "outputs": [
    {
     "data": {
      "text/plain": [
       "8211"
      ]
     },
     "execution_count": 46,
     "metadata": {},
     "output_type": "execute_result"
    }
   ],
   "source": [
    "len(links_list)"
   ]
  },
  {
   "cell_type": "code",
   "execution_count": 47,
   "metadata": {},
   "outputs": [],
   "source": [
    "\n",
    "browser.get(\"https://www.linkedin.com/jobs/search?keywords=&location=Danemark&geoId=104514075&trk=public_jobs_jobs-search-bar_search-submit&position=1&pageNum=0\")"
   ]
  },
  {
   "cell_type": "code",
   "execution_count": 48,
   "metadata": {},
   "outputs": [],
   "source": [
    "#Danemark\n",
    "current = 1\n",
    "links_list_Danemark=[]\n",
    "list_=browser.find_elements_by_class_name(\"base-card\")\n",
    "for i in list_:\n",
    "    try:\n",
    "        a = i.find_element_by_tag_name('a')\n",
    "        links_list_Danemark.append(a.get_property('href'))\n",
    "        current +=1\n",
    "    except:\n",
    "        pass"
   ]
  },
  {
   "cell_type": "code",
   "execution_count": 49,
   "metadata": {},
   "outputs": [],
   "source": [
    "links_list=links_list+links_list_Danemark"
   ]
  },
  {
   "cell_type": "code",
   "execution_count": 50,
   "metadata": {},
   "outputs": [
    {
     "data": {
      "text/plain": [
       "9178"
      ]
     },
     "execution_count": 50,
     "metadata": {},
     "output_type": "execute_result"
    }
   ],
   "source": [
    "len(links_list)"
   ]
  },
  {
   "cell_type": "code",
   "execution_count": 51,
   "metadata": {},
   "outputs": [],
   "source": [
    "\n",
    "browser.get(\"https://www.linkedin.com/jobs/search?keywords=&location=Hong-Kong&geoId=&trk=homepage-jobseeker_jobs-search-bar_search-submit&position=1&pageNum=0\")"
   ]
  },
  {
   "cell_type": "code",
   "execution_count": 52,
   "metadata": {},
   "outputs": [],
   "source": [
    "#Hong-kong\n",
    "current = 1\n",
    "links_list_HK=[]\n",
    "list_=browser.find_elements_by_class_name(\"base-card\")\n",
    "for i in list_:\n",
    "    try:\n",
    "        a = i.find_element_by_tag_name('a')\n",
    "        links_list_HK.append(a.get_property('href'))\n",
    "        current +=1\n",
    "    except:\n",
    "        pass"
   ]
  },
  {
   "cell_type": "code",
   "execution_count": 53,
   "metadata": {},
   "outputs": [],
   "source": [
    "links_list=links_list+links_list_HK"
   ]
  },
  {
   "cell_type": "code",
   "execution_count": 54,
   "metadata": {},
   "outputs": [
    {
     "data": {
      "text/plain": [
       "9965"
      ]
     },
     "execution_count": 54,
     "metadata": {},
     "output_type": "execute_result"
    }
   ],
   "source": [
    "len(links_list)"
   ]
  },
  {
   "cell_type": "code",
   "execution_count": 55,
   "metadata": {},
   "outputs": [],
   "source": [
    "browser.get(\"https://www.linkedin.com/jobs/search?keywords=&location=inde&geoId=&trk=public_jobs_jobs-search-bar_search-submit&position=1&pageNum=0\")"
   ]
  },
  {
   "cell_type": "code",
   "execution_count": 56,
   "metadata": {},
   "outputs": [],
   "source": [
    "#Inde\n",
    "current = 1\n",
    "links_list_Inde=[]\n",
    "list_=browser.find_elements_by_class_name(\"base-card\")\n",
    "for i in list_:\n",
    "    try:\n",
    "        a = i.find_element_by_tag_name('a')\n",
    "        links_list_Inde.append(a.get_property('href'))\n",
    "        current +=1\n",
    "    except:\n",
    "        pass"
   ]
  },
  {
   "cell_type": "code",
   "execution_count": 57,
   "metadata": {},
   "outputs": [],
   "source": [
    "links_list=links_list+links_list_Inde"
   ]
  },
  {
   "cell_type": "code",
   "execution_count": 63,
   "metadata": {},
   "outputs": [
    {
     "data": {
      "text/plain": [
       "10786"
      ]
     },
     "execution_count": 63,
     "metadata": {},
     "output_type": "execute_result"
    }
   ],
   "source": [
    "len(links_list)"
   ]
  },
  {
   "cell_type": "code",
   "execution_count": 60,
   "metadata": {},
   "outputs": [],
   "source": [
    "keywords_Qualifications=[\"SKILLS\",\"Skills\",\"skills\",\"Wed Love to See:\",\"to have: \",\"Experience\",\"experience\",\"looking for\",\"Looking For\",\"Qualifications\",\"qualifications\",\"Requirements\",\"Requirements\",\"requirements\",\"Profil\",\"profil\",\"Required\",\"required\",\"Competencies\",\"competencies\"]\n",
    "keywords_Responsibilities=[\"will\",\"Mission\",\"DUTIES\",\"duties\",\"Duties\",\"the job\",\"count on you to\",\"missions\",\"You will\",\"you will\",\"Tasks\",\"tasks\",\"Responsibilities\",\"The Role\",\"responsibilities\",\"Activities\",\"activities\",\"FUNCTIONS\",\"functions\",\"Functions\",\"YOU'll DO\",\"youll do\",\"You'll do\"]"
   ]
  },
  {
   "cell_type": "code",
   "execution_count": 61,
   "metadata": {},
   "outputs": [],
   "source": [
    "def type_(k):\n",
    "    count_li=0\n",
    "    count_p=0\n",
    "    while True:\n",
    "        if k.name == 'li':\n",
    "            count_li=1\n",
    "            k=k.find_next()\n",
    "        if k.name =='p':\n",
    "            count_p=1\n",
    "            k=k.find_next()\n",
    "        if k.name == 'div' or k.name == 'strong':\n",
    "            break\n",
    "        else:\n",
    "            k=k.find_next()\n",
    "            pass\n",
    "    if count_li == 1:\n",
    "        return 1\n",
    "    if count_p == 1 and count_li == 0:\n",
    "        return 2\n",
    "    else:\n",
    "        return 0"
   ]
  },
  {
   "cell_type": "code",
   "execution_count": 83,
   "metadata": {},
   "outputs": [
    {
     "name": "stderr",
     "output_type": "stream",
     "text": [
      "100%|██████████| 10662/10662 [10:13:25<00:00,  3.45s/it]     \n"
     ]
    }
   ],
   "source": [
    "data_list=[]\n",
    "for i in tqdm(links_list):\n",
    "    try:\n",
    "        \n",
    "        req = requests.get(i)\n",
    "        soup = BeautifulSoup(req.text, \"html.parser\")#code source\n",
    "        dom = etree.HTML(str(soup))\n",
    "        u = soup.find_all()\n",
    "        \n",
    "        \n",
    "        lang=detect(soup.text)\n",
    "\n",
    "        if lang == 'en':\n",
    "            work_position=''    \n",
    "            company_name=''    \n",
    "            location=''    \n",
    "            Responsibilities=''    \n",
    "            Qualifications=''\n",
    "\n",
    "            work_position=soup.find(\"h1\", {\"class\":\"top-card-layout__title\"}).text\n",
    "\n",
    "            company_name=dom.xpath('//*[@id=\"main-content\"]/section[1]/section[2]/div/div[1]/div/h4/div[1]/span[1]/a')[0].text\n",
    "\n",
    "            location=dom.xpath('//*[@id=\"main-content\"]/section[1]/section[2]/div/div[1]/div/h4/div[1]/span[2]')[0].text\n",
    "\n",
    "            u = soup.find_all()\n",
    "            key1=0\n",
    "            key2=0\n",
    "\n",
    "            for j in u:\n",
    "                p=j\n",
    "                if j.name == 'strong' or j.name == 'p' or j.name =='u':\n",
    "                    for k in keywords_Responsibilities:\n",
    "                        if k in j.text:\n",
    "                            key=1\n",
    "                            type__=type_(j)\n",
    "                            if type__==1:\n",
    "                                h1=''\n",
    "                                while p.name !='li':\n",
    "                                    p = p.find_next()\n",
    "                                while True:\n",
    "                                    key1=1\n",
    "                                    h1=h1+p.text\n",
    "                                    p=p.find_next()\n",
    "                                    if p.name == 'li':\n",
    "                                        h1=h1+';'\n",
    "                                    else:\n",
    "                                        break\n",
    "                                Responsibilities=Responsibilities+h1\n",
    "\n",
    "                    for l in keywords_Qualifications:\n",
    "                        if l in j.text:\n",
    "                            type__=type_(j)\n",
    "                            if type__==1:\n",
    "                                h2=''\n",
    "                                while p.name != 'li':\n",
    "                                    p=p.find_next()\n",
    "                                while True:\n",
    "                                    key2=1\n",
    "                                    h2=h2+p.text\n",
    "                                    p=p.find_next()\n",
    "                                    if p.name == 'li':\n",
    "                                        h2=h2+';'\n",
    "                                    else:\n",
    "                                        break\n",
    "                                Qualifications=Qualifications + h2\n",
    "\n",
    "                    for k1 in keywords_Responsibilities:\n",
    "                        if k1 in j.text:\n",
    "                            type__=type_(j)\n",
    "                            if type__==2:\n",
    "                                h1=''\n",
    "                                while p.name !='p':\n",
    "                                    p = p.find_next()\n",
    "                                while True:\n",
    "                                    key1=1\n",
    "                                    h1=h1+p.text\n",
    "                                    p=p.find_next()\n",
    "                                    if p.name == 'p':\n",
    "                                        h1=h1+';'\n",
    "                                    else:\n",
    "                                        break\n",
    "                                Responsibilities=Responsibilities+h1\n",
    "\n",
    "                    for l1 in keywords_Qualifications:\n",
    "                        if l1 in j.text:\n",
    "                            type__=type_(j)\n",
    "                            if type__==2:\n",
    "                                h2=''\n",
    "                                while p.name != 'p':\n",
    "                                    p=p.find_next()\n",
    "                                while True:\n",
    "                                    key2=1\n",
    "                                    h2=h2+p.text\n",
    "                                    p=p.find_next()\n",
    "                                    if p.name == 'p':\n",
    "                                        h2=h2+';'\n",
    "                                    else:\n",
    "                                        break\n",
    "                                    Qualifications=Qualifications + h2\n",
    "\n",
    "\n",
    "        if key1==1 and key2==1:\n",
    "            data={'work_position':work_position,\n",
    "                                          'company_name':company_name,\n",
    "                                          'location':location,\n",
    "                                          'Responsibilities':Responsibilities,\n",
    "                                          'Qualifications':Qualifications,\n",
    "                                          'link':i}\n",
    "            data_list.append(data)\n",
    "    except:\n",
    "        pass"
   ]
  },
  {
   "cell_type": "code",
   "execution_count": 105,
   "metadata": {},
   "outputs": [
    {
     "data": {
      "text/plain": [
       "3545"
      ]
     },
     "execution_count": 105,
     "metadata": {},
     "output_type": "execute_result"
    }
   ],
   "source": [
    "len(data_list)"
   ]
  },
  {
   "cell_type": "code",
   "execution_count": 71,
   "metadata": {},
   "outputs": [],
   "source": [
    "data_list=data_list1"
   ]
  },
  {
   "cell_type": "code",
   "execution_count": 72,
   "metadata": {},
   "outputs": [],
   "source": [
    "import pandas as pd\n",
    "df=pd.DataFrame(data_list)"
   ]
  },
  {
   "cell_type": "code",
   "execution_count": 143,
   "metadata": {},
   "outputs": [],
   "source": [
    "df1=pd.DataFrame(links_list)"
   ]
  },
  {
   "cell_type": "code",
   "execution_count": 74,
   "metadata": {},
   "outputs": [
    {
     "data": {
      "text/html": [
       "<div>\n",
       "<style scoped>\n",
       "    .dataframe tbody tr th:only-of-type {\n",
       "        vertical-align: middle;\n",
       "    }\n",
       "\n",
       "    .dataframe tbody tr th {\n",
       "        vertical-align: top;\n",
       "    }\n",
       "\n",
       "    .dataframe thead th {\n",
       "        text-align: right;\n",
       "    }\n",
       "</style>\n",
       "<table border=\"1\" class=\"dataframe\">\n",
       "  <thead>\n",
       "    <tr style=\"text-align: right;\">\n",
       "      <th></th>\n",
       "      <th>work_position</th>\n",
       "      <th>company_name</th>\n",
       "      <th>location</th>\n",
       "      <th>Responsibilities</th>\n",
       "      <th>Requirements</th>\n",
       "      <th>link</th>\n",
       "    </tr>\n",
       "  </thead>\n",
       "  <tbody>\n",
       "    <tr>\n",
       "      <th>0</th>\n",
       "      <td>Associate Director / Senior Policy Analyst</td>\n",
       "      <td>\\n                European Policy Centre\\n    ...</td>\n",
       "      <td>\\n              Brussels, Brussels Region, Bel...</td>\n",
       "      <td>university degree in a relevant subject and po...</td>\n",
       "      <td>university degree in a relevant subject and po...</td>\n",
       "      <td>https://be.linkedin.com/jobs/view/associate-di...</td>\n",
       "    </tr>\n",
       "    <tr>\n",
       "      <th>1</th>\n",
       "      <td>Public Affairs &amp; Government Relations Speciali...</td>\n",
       "      <td>\\n                Boeing\\n</td>\n",
       "      <td>\\n              Brussels, Brussels Region, Bel...</td>\n",
       "      <td>Track and analyze pending and existing legisla...</td>\n",
       "      <td>Bachelor's degree or higher in international r...</td>\n",
       "      <td>https://be.linkedin.com/jobs/view/public-affai...</td>\n",
       "    </tr>\n",
       "    <tr>\n",
       "      <th>2</th>\n",
       "      <td>Investment Analyst</td>\n",
       "      <td>\\n                Straco\\n</td>\n",
       "      <td>\\n              Ghent Metropolitan Area\\n     ...</td>\n",
       "      <td>Conducting market and industry research;Review...</td>\n",
       "      <td>Conducting market and industry researchReview ...</td>\n",
       "      <td>https://be.linkedin.com/jobs/view/investment-a...</td>\n",
       "    </tr>\n",
       "    <tr>\n",
       "      <th>3</th>\n",
       "      <td>Administrative Assistant</td>\n",
       "      <td>\\n                Langerman Diamonds\\n        ...</td>\n",
       "      <td>\\n              Antwerp, Belgium\\n</td>\n",
       "      <td>\\n\\n          Employment type\\n        \\n\\n   ...</td>\n",
       "      <td>An Associate degree or Professional Bachelor's...</td>\n",
       "      <td>https://be.linkedin.com/jobs/view/administrati...</td>\n",
       "    </tr>\n",
       "    <tr>\n",
       "      <th>4</th>\n",
       "      <td>Communications Intern</td>\n",
       "      <td>\\n                Human Rights Watch\\n        ...</td>\n",
       "      <td>\\n              Brussels, Brussels Region, Bel...</td>\n",
       "      <td>\\n\\n            Seniority level\\n          \\n\\...</td>\n",
       "      <td>\\n\\n            Seniority level\\n          \\n\\...</td>\n",
       "      <td>https://be.linkedin.com/jobs/view/communicatio...</td>\n",
       "    </tr>\n",
       "    <tr>\n",
       "      <th>...</th>\n",
       "      <td>...</td>\n",
       "      <td>...</td>\n",
       "      <td>...</td>\n",
       "      <td>...</td>\n",
       "      <td>...</td>\n",
       "      <td>...</td>\n",
       "    </tr>\n",
       "    <tr>\n",
       "      <th>3308</th>\n",
       "      <td>Logistics Officer</td>\n",
       "      <td>\\n                Jebsen Group\\n</td>\n",
       "      <td>\\n              Hong Kong, Hong Kong SAR\\n    ...</td>\n",
       "      <td>Coordinate and monitor the delivery team to en...</td>\n",
       "      <td>F.7 or aboveDiploma in Logistics or Supply Cha...</td>\n",
       "      <td>https://hk.linkedin.com/jobs/view/logistics-of...</td>\n",
       "    </tr>\n",
       "    <tr>\n",
       "      <th>3309</th>\n",
       "      <td>Asia Fixed Income Desk Strats, Associate/VP</td>\n",
       "      <td>\\n                Morgan Stanley\\n</td>\n",
       "      <td>\\n              Hong Kong, Hong Kong SAR\\n    ...</td>\n",
       "      <td>Developing and supporting the trading desks’ p...</td>\n",
       "      <td>Developing and supporting the trading desks’ p...</td>\n",
       "      <td>https://hk.linkedin.com/jobs/view/asia-fixed-i...</td>\n",
       "    </tr>\n",
       "    <tr>\n",
       "      <th>3310</th>\n",
       "      <td>Business Analyst</td>\n",
       "      <td>\\n                Cognizant\\n</td>\n",
       "      <td>\\n              Hong Kong, Hong Kong SAR\\n    ...</td>\n",
       "      <td>Responsible for understanding and executing th...</td>\n",
       "      <td>Minimum 3 years of experience working in the o...</td>\n",
       "      <td>https://hk.linkedin.com/jobs/view/business-ana...</td>\n",
       "    </tr>\n",
       "    <tr>\n",
       "      <th>3311</th>\n",
       "      <td>Translator</td>\n",
       "      <td>\\n                Deacons\\n</td>\n",
       "      <td>\\n              Hong Kong, Hong Kong SAR\\n    ...</td>\n",
       "      <td>\\n\\n            Seniority level\\n          \\n\\...</td>\n",
       "      <td>\\n\\n            Seniority level\\n          \\n\\...</td>\n",
       "      <td>https://hk.linkedin.com/jobs/view/translator-a...</td>\n",
       "    </tr>\n",
       "    <tr>\n",
       "      <th>3312</th>\n",
       "      <td>Healthcare PE Analyst</td>\n",
       "      <td>\\n                Morgan McKinley\\n</td>\n",
       "      <td>\\n              Hong Kong, Hong Kong SAR\\n    ...</td>\n",
       "      <td>Conduct research from primary literature, prop...</td>\n",
       "      <td>PhD in biology / chemistry / related field or ...</td>\n",
       "      <td>https://hk.linkedin.com/jobs/view/healthcare-p...</td>\n",
       "    </tr>\n",
       "  </tbody>\n",
       "</table>\n",
       "<p>3313 rows × 6 columns</p>\n",
       "</div>"
      ],
      "text/plain": [
       "                                          work_position  \\\n",
       "0            Associate Director / Senior Policy Analyst   \n",
       "1     Public Affairs & Government Relations Speciali...   \n",
       "2                                    Investment Analyst   \n",
       "3                              Administrative Assistant   \n",
       "4                                 Communications Intern   \n",
       "...                                                 ...   \n",
       "3308                                  Logistics Officer   \n",
       "3309        Asia Fixed Income Desk Strats, Associate/VP   \n",
       "3310                                   Business Analyst   \n",
       "3311                                         Translator   \n",
       "3312                              Healthcare PE Analyst   \n",
       "\n",
       "                                           company_name  \\\n",
       "0     \\n                European Policy Centre\\n    ...   \n",
       "1              \\n                Boeing\\n                 \n",
       "2              \\n                Straco\\n                 \n",
       "3     \\n                Langerman Diamonds\\n        ...   \n",
       "4     \\n                Human Rights Watch\\n        ...   \n",
       "...                                                 ...   \n",
       "3308     \\n                Jebsen Group\\n                 \n",
       "3309   \\n                Morgan Stanley\\n                 \n",
       "3310        \\n                Cognizant\\n                 \n",
       "3311          \\n                Deacons\\n                 \n",
       "3312  \\n                Morgan McKinley\\n                 \n",
       "\n",
       "                                               location  \\\n",
       "0     \\n              Brussels, Brussels Region, Bel...   \n",
       "1     \\n              Brussels, Brussels Region, Bel...   \n",
       "2     \\n              Ghent Metropolitan Area\\n     ...   \n",
       "3        \\n              Antwerp, Belgium\\n               \n",
       "4     \\n              Brussels, Brussels Region, Bel...   \n",
       "...                                                 ...   \n",
       "3308  \\n              Hong Kong, Hong Kong SAR\\n    ...   \n",
       "3309  \\n              Hong Kong, Hong Kong SAR\\n    ...   \n",
       "3310  \\n              Hong Kong, Hong Kong SAR\\n    ...   \n",
       "3311  \\n              Hong Kong, Hong Kong SAR\\n    ...   \n",
       "3312  \\n              Hong Kong, Hong Kong SAR\\n    ...   \n",
       "\n",
       "                                       Responsibilities  \\\n",
       "0     university degree in a relevant subject and po...   \n",
       "1     Track and analyze pending and existing legisla...   \n",
       "2     Conducting market and industry research;Review...   \n",
       "3     \\n\\n          Employment type\\n        \\n\\n   ...   \n",
       "4     \\n\\n            Seniority level\\n          \\n\\...   \n",
       "...                                                 ...   \n",
       "3308  Coordinate and monitor the delivery team to en...   \n",
       "3309  Developing and supporting the trading desks’ p...   \n",
       "3310  Responsible for understanding and executing th...   \n",
       "3311  \\n\\n            Seniority level\\n          \\n\\...   \n",
       "3312  Conduct research from primary literature, prop...   \n",
       "\n",
       "                                           Requirements  \\\n",
       "0     university degree in a relevant subject and po...   \n",
       "1     Bachelor's degree or higher in international r...   \n",
       "2     Conducting market and industry researchReview ...   \n",
       "3     An Associate degree or Professional Bachelor's...   \n",
       "4     \\n\\n            Seniority level\\n          \\n\\...   \n",
       "...                                                 ...   \n",
       "3308  F.7 or aboveDiploma in Logistics or Supply Cha...   \n",
       "3309  Developing and supporting the trading desks’ p...   \n",
       "3310  Minimum 3 years of experience working in the o...   \n",
       "3311  \\n\\n            Seniority level\\n          \\n\\...   \n",
       "3312  PhD in biology / chemistry / related field or ...   \n",
       "\n",
       "                                                   link  \n",
       "0     https://be.linkedin.com/jobs/view/associate-di...  \n",
       "1     https://be.linkedin.com/jobs/view/public-affai...  \n",
       "2     https://be.linkedin.com/jobs/view/investment-a...  \n",
       "3     https://be.linkedin.com/jobs/view/administrati...  \n",
       "4     https://be.linkedin.com/jobs/view/communicatio...  \n",
       "...                                                 ...  \n",
       "3308  https://hk.linkedin.com/jobs/view/logistics-of...  \n",
       "3309  https://hk.linkedin.com/jobs/view/asia-fixed-i...  \n",
       "3310  https://hk.linkedin.com/jobs/view/business-ana...  \n",
       "3311  https://hk.linkedin.com/jobs/view/translator-a...  \n",
       "3312  https://hk.linkedin.com/jobs/view/healthcare-p...  \n",
       "\n",
       "[3313 rows x 6 columns]"
      ]
     },
     "execution_count": 74,
     "metadata": {},
     "output_type": "execute_result"
    }
   ],
   "source": [
    "df"
   ]
  },
  {
   "cell_type": "code",
   "execution_count": null,
   "metadata": {},
   "outputs": [],
   "source": [
    "\n",
    "import pandas as pd\n",
    "import string\n",
    "from nltk import word_tokenize\n",
    "from nltk.corpus import stopwords\n",
    "from nltk.stem import PorterStemmer\n",
    "from nltk import WordNetLemmatizer\n"
   ]
  },
  {
   "cell_type": "markdown",
   "metadata": {},
   "source": [
    "# Nettoyage des données"
   ]
  },
  {
   "cell_type": "markdown",
   "metadata": {},
   "source": [
    "## Convertir les lettres majuscules en minuscules"
   ]
  },
  {
   "cell_type": "code",
   "execution_count": 75,
   "metadata": {},
   "outputs": [],
   "source": [
    "\n",
    "ls=dict()\n",
    "for i in df['Requirements']:\n",
    "    ls['Requirements']=[]\n",
    "for i in df['Requirements']:\n",
    "    ls['Requirements'].append(i.lower())\n",
    "df['Requirements_lower']=ls['Requirements']\n"
   ]
  },
  {
   "cell_type": "code",
   "execution_count": 76,
   "metadata": {},
   "outputs": [],
   "source": [
    "ls=dict()\n",
    "for i in df['Responsibilities']:\n",
    "    ls['Responsibilities']=[]\n",
    "for i in df['Responsibilities']:\n",
    "    ls['Responsibilities'].append(i.lower())\n",
    "df['Responsibilities_lower']=ls['Responsibilities']"
   ]
  },
  {
   "cell_type": "code",
   "execution_count": 77,
   "metadata": {},
   "outputs": [],
   "source": [
    "ls=dict()\n",
    "for i in df['company_name']:\n",
    "    ls['company_name']=[]\n",
    "for i in df['company_name']:\n",
    "    ls['company_name'].append(i.lower())\n",
    "df['company_name_lower']=ls['company_name']"
   ]
  },
  {
   "cell_type": "code",
   "execution_count": 78,
   "metadata": {},
   "outputs": [],
   "source": [
    "ls=dict()\n",
    "for i in df['location']:\n",
    "    ls['location']=[]\n",
    "for i in df['location']:\n",
    "    ls['location'].append(i.lower())\n",
    "df['location_lower']=ls['location']"
   ]
  },
  {
   "cell_type": "code",
   "execution_count": 79,
   "metadata": {},
   "outputs": [],
   "source": [
    "ls=dict()\n",
    "for i in df['work_position']:\n",
    "    ls['work_position']=[]\n",
    "for i in df['work_position']:\n",
    "    ls['work_position'].append(i.lower())\n",
    "df['work_position_lower']=ls['work_position']"
   ]
  },
  {
   "cell_type": "markdown",
   "metadata": {},
   "source": [
    "## Eliminer la ponctuation"
   ]
  },
  {
   "cell_type": "code",
   "execution_count": 80,
   "metadata": {},
   "outputs": [],
   "source": [
    "\n",
    "ls=dict()\n",
    "for i in df['Requirements_lower']:\n",
    "    ls['Requirements_txt']=[]\n",
    "for i in df['Requirements_lower']:\n",
    "    ls['Requirements_txt'].append(i.translate(str.maketrans('','',string.punctuation)))\n",
    "df['Requirements_ponctuation']=ls['Requirements_txt']\n"
   ]
  },
  {
   "cell_type": "code",
   "execution_count": 81,
   "metadata": {},
   "outputs": [],
   "source": [
    "import string\n",
    "ls=dict()\n",
    "for i in df['Responsibilities_lower']:\n",
    "    ls['Responsibilities_txt']=[]\n",
    "for i in df['Responsibilities_lower']:\n",
    "    ls['Responsibilities_txt'].append(i.translate(str.maketrans('','',string.punctuation)))\n",
    "df['Responsibilities_ponctuation']=ls['Responsibilities_txt']"
   ]
  },
  {
   "cell_type": "code",
   "execution_count": 82,
   "metadata": {},
   "outputs": [],
   "source": [
    "import string\n",
    "ls=dict()\n",
    "for i in df['company_name_lower']:\n",
    "    ls['company_name_txt']=[]\n",
    "for i in df['company_name_lower']:\n",
    "    ls['company_name_txt'].append(i.translate(str.maketrans('','',string.punctuation)))\n",
    "df['company_name_ponctuation']=ls['company_name_txt']"
   ]
  },
  {
   "cell_type": "code",
   "execution_count": 83,
   "metadata": {},
   "outputs": [],
   "source": [
    "import string\n",
    "ls=dict()\n",
    "for i in df['location_lower']:\n",
    "    ls['location_txt']=[]\n",
    "for i in df['location_lower']:\n",
    "    ls['location_txt'].append(i.translate(str.maketrans('','',string.punctuation)))\n",
    "df['location_ponctuation']=ls['location_txt']"
   ]
  },
  {
   "cell_type": "code",
   "execution_count": 84,
   "metadata": {},
   "outputs": [],
   "source": [
    "import string\n",
    "ls=dict()\n",
    "for i in df['work_position_lower']:\n",
    "    ls['work_position_txt']=[]\n",
    "for i in df['work_position_lower']:\n",
    "    ls['work_position_txt'].append(i.translate(str.maketrans('','',string.punctuation)))\n",
    "df['work_position_ponctuation']=ls['work_position_txt']"
   ]
  },
  {
   "cell_type": "markdown",
   "metadata": {},
   "source": [
    "## Tokenization par mot"
   ]
  },
  {
   "cell_type": "code",
   "execution_count": 85,
   "metadata": {},
   "outputs": [],
   "source": [
    "\n",
    "ls=dict()\n",
    "for i in df['Requirements_ponctuation']:\n",
    "    ls['Requirements_txt']=[]\n",
    "for i in df['Requirements_ponctuation']:\n",
    "    ls['Requirements_txt'].append(word_tokenize(i))\n",
    "df['Requirements_tokenized']=ls['Requirements_txt']\n",
    "\n"
   ]
  },
  {
   "cell_type": "code",
   "execution_count": 86,
   "metadata": {},
   "outputs": [],
   "source": [
    "from nltk import word_tokenize\n",
    "ls=dict()\n",
    "for i in df['Responsibilities_ponctuation']:\n",
    "    ls['Responsibilities_txt']=[]\n",
    "for i in df['Responsibilities_ponctuation']:\n",
    "    ls['Responsibilities_txt'].append(word_tokenize(i))\n",
    "df['Responsibilities__tokenized']=ls['Responsibilities_txt']"
   ]
  },
  {
   "cell_type": "code",
   "execution_count": 87,
   "metadata": {},
   "outputs": [],
   "source": [
    "from nltk import word_tokenize\n",
    "ls=dict()\n",
    "for i in df['location_ponctuation']:\n",
    "    ls['location_txt']=[]\n",
    "for i in df['location_ponctuation']:\n",
    "    ls['location_txt'].append(word_tokenize(i))\n",
    "df['location_tokenized']=ls['location_txt']"
   ]
  },
  {
   "cell_type": "code",
   "execution_count": 88,
   "metadata": {},
   "outputs": [],
   "source": [
    "from nltk import word_tokenize\n",
    "ls=dict()\n",
    "for i in df['company_name_ponctuation']:\n",
    "    ls['company_name_txt']=[]\n",
    "for i in df['company_name_ponctuation']:\n",
    "    ls['company_name_txt'].append(word_tokenize(i))\n",
    "df['company_name_tokenized']=ls['company_name_txt']"
   ]
  },
  {
   "cell_type": "code",
   "execution_count": 89,
   "metadata": {},
   "outputs": [],
   "source": [
    "from nltk import word_tokenize\n",
    "ls=dict()\n",
    "for i in df['work_position_ponctuation']:\n",
    "    ls['work_position_txt']=[]\n",
    "for i in df['work_position_ponctuation']:\n",
    "    ls['work_position_txt'].append(word_tokenize(i))\n",
    "df['work_position_tokenized']=ls['work_position_txt']"
   ]
  },
  {
   "cell_type": "markdown",
   "metadata": {},
   "source": [
    "## stopwords"
   ]
  },
  {
   "cell_type": "code",
   "execution_count": 90,
   "metadata": {},
   "outputs": [
    {
     "data": {
      "text/plain": [
       "['i',\n",
       " 'me',\n",
       " 'my',\n",
       " 'myself',\n",
       " 'we',\n",
       " 'our',\n",
       " 'ours',\n",
       " 'ourselves',\n",
       " 'you',\n",
       " \"you're\",\n",
       " \"you've\",\n",
       " \"you'll\",\n",
       " \"you'd\",\n",
       " 'your',\n",
       " 'yours',\n",
       " 'yourself',\n",
       " 'yourselves',\n",
       " 'he',\n",
       " 'him',\n",
       " 'his',\n",
       " 'himself',\n",
       " 'she',\n",
       " \"she's\",\n",
       " 'her',\n",
       " 'hers',\n",
       " 'herself',\n",
       " 'it',\n",
       " \"it's\",\n",
       " 'its',\n",
       " 'itself',\n",
       " 'they',\n",
       " 'them',\n",
       " 'their',\n",
       " 'theirs',\n",
       " 'themselves',\n",
       " 'what',\n",
       " 'which',\n",
       " 'who',\n",
       " 'whom',\n",
       " 'this',\n",
       " 'that',\n",
       " \"that'll\",\n",
       " 'these',\n",
       " 'those',\n",
       " 'am',\n",
       " 'is',\n",
       " 'are',\n",
       " 'was',\n",
       " 'were',\n",
       " 'be',\n",
       " 'been',\n",
       " 'being',\n",
       " 'have',\n",
       " 'has',\n",
       " 'had',\n",
       " 'having',\n",
       " 'do',\n",
       " 'does',\n",
       " 'did',\n",
       " 'doing',\n",
       " 'a',\n",
       " 'an',\n",
       " 'the',\n",
       " 'and',\n",
       " 'but',\n",
       " 'if',\n",
       " 'or',\n",
       " 'because',\n",
       " 'as',\n",
       " 'until',\n",
       " 'while',\n",
       " 'of',\n",
       " 'at',\n",
       " 'by',\n",
       " 'for',\n",
       " 'with',\n",
       " 'about',\n",
       " 'against',\n",
       " 'between',\n",
       " 'into',\n",
       " 'through',\n",
       " 'during',\n",
       " 'before',\n",
       " 'after',\n",
       " 'above',\n",
       " 'below',\n",
       " 'to',\n",
       " 'from',\n",
       " 'up',\n",
       " 'down',\n",
       " 'in',\n",
       " 'out',\n",
       " 'on',\n",
       " 'off',\n",
       " 'over',\n",
       " 'under',\n",
       " 'again',\n",
       " 'further',\n",
       " 'then',\n",
       " 'once',\n",
       " 'here',\n",
       " 'there',\n",
       " 'when',\n",
       " 'where',\n",
       " 'why',\n",
       " 'how',\n",
       " 'all',\n",
       " 'any',\n",
       " 'both',\n",
       " 'each',\n",
       " 'few',\n",
       " 'more',\n",
       " 'most',\n",
       " 'other',\n",
       " 'some',\n",
       " 'such',\n",
       " 'no',\n",
       " 'nor',\n",
       " 'not',\n",
       " 'only',\n",
       " 'own',\n",
       " 'same',\n",
       " 'so',\n",
       " 'than',\n",
       " 'too',\n",
       " 'very',\n",
       " 's',\n",
       " 't',\n",
       " 'can',\n",
       " 'will',\n",
       " 'just',\n",
       " 'don',\n",
       " \"don't\",\n",
       " 'should',\n",
       " \"should've\",\n",
       " 'now',\n",
       " 'd',\n",
       " 'll',\n",
       " 'm',\n",
       " 'o',\n",
       " 're',\n",
       " 've',\n",
       " 'y',\n",
       " 'ain',\n",
       " 'aren',\n",
       " \"aren't\",\n",
       " 'couldn',\n",
       " \"couldn't\",\n",
       " 'didn',\n",
       " \"didn't\",\n",
       " 'doesn',\n",
       " \"doesn't\",\n",
       " 'hadn',\n",
       " \"hadn't\",\n",
       " 'hasn',\n",
       " \"hasn't\",\n",
       " 'haven',\n",
       " \"haven't\",\n",
       " 'isn',\n",
       " \"isn't\",\n",
       " 'ma',\n",
       " 'mightn',\n",
       " \"mightn't\",\n",
       " 'mustn',\n",
       " \"mustn't\",\n",
       " 'needn',\n",
       " \"needn't\",\n",
       " 'shan',\n",
       " \"shan't\",\n",
       " 'shouldn',\n",
       " \"shouldn't\",\n",
       " 'wasn',\n",
       " \"wasn't\",\n",
       " 'weren',\n",
       " \"weren't\",\n",
       " 'won',\n",
       " \"won't\",\n",
       " 'wouldn',\n",
       " \"wouldn't\"]"
      ]
     },
     "execution_count": 90,
     "metadata": {},
     "output_type": "execute_result"
    }
   ],
   "source": [
    "stopwords.words('english')"
   ]
  },
  {
   "cell_type": "code",
   "execution_count": 91,
   "metadata": {},
   "outputs": [],
   "source": [
    "\n",
    "\n",
    "stpword=stopwords.words('english')\n"
   ]
  },
  {
   "cell_type": "code",
   "execution_count": 92,
   "metadata": {},
   "outputs": [],
   "source": [
    "\n",
    "ls=dict()\n",
    "ls['nostop']=[]\n",
    "for i in df['Requirements_tokenized']:\n",
    "    l=[]\n",
    "    for s in i:\n",
    "        if s not in stpword:\n",
    "            l.append(s)\n",
    "    ls['nostop'].append(l)\n",
    "df['Requirements_stpword']=ls['nostop']\n"
   ]
  },
  {
   "cell_type": "code",
   "execution_count": 93,
   "metadata": {},
   "outputs": [],
   "source": [
    "ls=dict()\n",
    "ls['nostop']=[]\n",
    "for i in df['Responsibilities__tokenized']:\n",
    "    l=[]\n",
    "    for s in i:\n",
    "        if s not in stpword:\n",
    "            l.append(s)\n",
    "    ls['nostop'].append(l)\n",
    "df['Responsibilities_stpword']=ls['nostop']"
   ]
  },
  {
   "cell_type": "code",
   "execution_count": 94,
   "metadata": {},
   "outputs": [],
   "source": [
    "ls=dict()\n",
    "ls['nostop']=[]\n",
    "for i in df['location_tokenized']:\n",
    "    l=[]\n",
    "    for s in i:\n",
    "        if s not in stpword:\n",
    "            l.append(s)\n",
    "    ls['nostop'].append(l)\n",
    "df['location_stpword']=ls['nostop']"
   ]
  },
  {
   "cell_type": "code",
   "execution_count": 95,
   "metadata": {},
   "outputs": [],
   "source": [
    "ls=dict()\n",
    "ls['nostop']=[]\n",
    "for i in df['company_name_tokenized']:\n",
    "    l=[]\n",
    "    for s in i:\n",
    "        if s not in stpword:\n",
    "            l.append(s)\n",
    "    ls['nostop'].append(l)\n",
    "df['company_name_stpword']=ls['nostop']"
   ]
  },
  {
   "cell_type": "code",
   "execution_count": 96,
   "metadata": {},
   "outputs": [],
   "source": [
    "ls=dict()\n",
    "ls['nostop']=[]\n",
    "for i in df['work_position_tokenized']:\n",
    "    l=[]\n",
    "    for s in i:\n",
    "        if s not in stpword:\n",
    "            l.append(s)\n",
    "    ls['nostop'].append(l)\n",
    "df['work_position_stpword']=ls['nostop']"
   ]
  },
  {
   "cell_type": "code",
   "execution_count": 97,
   "metadata": {},
   "outputs": [
    {
     "data": {
      "text/html": [
       "<div>\n",
       "<style scoped>\n",
       "    .dataframe tbody tr th:only-of-type {\n",
       "        vertical-align: middle;\n",
       "    }\n",
       "\n",
       "    .dataframe tbody tr th {\n",
       "        vertical-align: top;\n",
       "    }\n",
       "\n",
       "    .dataframe thead th {\n",
       "        text-align: right;\n",
       "    }\n",
       "</style>\n",
       "<table border=\"1\" class=\"dataframe\">\n",
       "  <thead>\n",
       "    <tr style=\"text-align: right;\">\n",
       "      <th></th>\n",
       "      <th>work_position</th>\n",
       "      <th>company_name</th>\n",
       "      <th>location</th>\n",
       "      <th>Responsibilities</th>\n",
       "      <th>Requirements</th>\n",
       "      <th>link</th>\n",
       "      <th>Requirements_lower</th>\n",
       "      <th>Responsibilities_lower</th>\n",
       "      <th>company_name_lower</th>\n",
       "      <th>location_lower</th>\n",
       "      <th>...</th>\n",
       "      <th>Requirements_tokenized</th>\n",
       "      <th>Responsibilities__tokenized</th>\n",
       "      <th>location_tokenized</th>\n",
       "      <th>company_name_tokenized</th>\n",
       "      <th>work_position_tokenized</th>\n",
       "      <th>Requirements_stpword</th>\n",
       "      <th>Responsibilities_stpword</th>\n",
       "      <th>location_stpword</th>\n",
       "      <th>company_name_stpword</th>\n",
       "      <th>work_position_stpword</th>\n",
       "    </tr>\n",
       "  </thead>\n",
       "  <tbody>\n",
       "    <tr>\n",
       "      <th>0</th>\n",
       "      <td>Associate Director / Senior Policy Analyst</td>\n",
       "      <td>\\n                European Policy Centre\\n    ...</td>\n",
       "      <td>\\n              Brussels, Brussels Region, Bel...</td>\n",
       "      <td>university degree in a relevant subject and po...</td>\n",
       "      <td>university degree in a relevant subject and po...</td>\n",
       "      <td>https://be.linkedin.com/jobs/view/associate-di...</td>\n",
       "      <td>university degree in a relevant subject and po...</td>\n",
       "      <td>university degree in a relevant subject and po...</td>\n",
       "      <td>\\n                european policy centre\\n    ...</td>\n",
       "      <td>\\n              brussels, brussels region, bel...</td>\n",
       "      <td>...</td>\n",
       "      <td>[university, degree, in, a, relevant, subject,...</td>\n",
       "      <td>[university, degree, in, a, relevant, subject,...</td>\n",
       "      <td>[brussels, brussels, region, belgium]</td>\n",
       "      <td>[european, policy, centre]</td>\n",
       "      <td>[associate, director, senior, policy, analyst]</td>\n",
       "      <td>[university, degree, relevant, subject, postgr...</td>\n",
       "      <td>[university, degree, relevant, subject, postgr...</td>\n",
       "      <td>[brussels, brussels, region, belgium]</td>\n",
       "      <td>[european, policy, centre]</td>\n",
       "      <td>[associate, director, senior, policy, analyst]</td>\n",
       "    </tr>\n",
       "    <tr>\n",
       "      <th>1</th>\n",
       "      <td>Public Affairs &amp; Government Relations Speciali...</td>\n",
       "      <td>\\n                Boeing\\n</td>\n",
       "      <td>\\n              Brussels, Brussels Region, Bel...</td>\n",
       "      <td>Track and analyze pending and existing legisla...</td>\n",
       "      <td>Bachelor's degree or higher in international r...</td>\n",
       "      <td>https://be.linkedin.com/jobs/view/public-affai...</td>\n",
       "      <td>bachelor's degree or higher in international r...</td>\n",
       "      <td>track and analyze pending and existing legisla...</td>\n",
       "      <td>\\n                boeing\\n</td>\n",
       "      <td>\\n              brussels, brussels region, bel...</td>\n",
       "      <td>...</td>\n",
       "      <td>[bachelors, degree, or, higher, in, internatio...</td>\n",
       "      <td>[track, and, analyze, pending, and, existing, ...</td>\n",
       "      <td>[brussels, brussels, region, belgium]</td>\n",
       "      <td>[boeing]</td>\n",
       "      <td>[public, affairs, government, relations, speci...</td>\n",
       "      <td>[bachelors, degree, higher, international, rel...</td>\n",
       "      <td>[track, analyze, pending, existing, legislatio...</td>\n",
       "      <td>[brussels, brussels, region, belgium]</td>\n",
       "      <td>[boeing]</td>\n",
       "      <td>[public, affairs, government, relations, speci...</td>\n",
       "    </tr>\n",
       "    <tr>\n",
       "      <th>2</th>\n",
       "      <td>Investment Analyst</td>\n",
       "      <td>\\n                Straco\\n</td>\n",
       "      <td>\\n              Ghent Metropolitan Area\\n     ...</td>\n",
       "      <td>Conducting market and industry research;Review...</td>\n",
       "      <td>Conducting market and industry researchReview ...</td>\n",
       "      <td>https://be.linkedin.com/jobs/view/investment-a...</td>\n",
       "      <td>conducting market and industry researchreview ...</td>\n",
       "      <td>conducting market and industry research;review...</td>\n",
       "      <td>\\n                straco\\n</td>\n",
       "      <td>\\n              ghent metropolitan area\\n     ...</td>\n",
       "      <td>...</td>\n",
       "      <td>[conducting, market, and, industry, researchre...</td>\n",
       "      <td>[conducting, market, and, industry, researchre...</td>\n",
       "      <td>[ghent, metropolitan, area]</td>\n",
       "      <td>[straco]</td>\n",
       "      <td>[investment, analyst]</td>\n",
       "      <td>[conducting, market, industry, researchreview,...</td>\n",
       "      <td>[conducting, market, industry, researchreview,...</td>\n",
       "      <td>[ghent, metropolitan, area]</td>\n",
       "      <td>[straco]</td>\n",
       "      <td>[investment, analyst]</td>\n",
       "    </tr>\n",
       "    <tr>\n",
       "      <th>3</th>\n",
       "      <td>Administrative Assistant</td>\n",
       "      <td>\\n                Langerman Diamonds\\n        ...</td>\n",
       "      <td>\\n              Antwerp, Belgium\\n</td>\n",
       "      <td>\\n\\n          Employment type\\n        \\n\\n   ...</td>\n",
       "      <td>An Associate degree or Professional Bachelor's...</td>\n",
       "      <td>https://be.linkedin.com/jobs/view/administrati...</td>\n",
       "      <td>an associate degree or professional bachelor's...</td>\n",
       "      <td>\\n\\n          employment type\\n        \\n\\n   ...</td>\n",
       "      <td>\\n                langerman diamonds\\n        ...</td>\n",
       "      <td>\\n              antwerp, belgium\\n</td>\n",
       "      <td>...</td>\n",
       "      <td>[an, associate, degree, or, professional, bach...</td>\n",
       "      <td>[employment, type, fulltime]</td>\n",
       "      <td>[antwerp, belgium]</td>\n",
       "      <td>[langerman, diamonds]</td>\n",
       "      <td>[administrative, assistant]</td>\n",
       "      <td>[associate, degree, professional, bachelors, d...</td>\n",
       "      <td>[employment, type, fulltime]</td>\n",
       "      <td>[antwerp, belgium]</td>\n",
       "      <td>[langerman, diamonds]</td>\n",
       "      <td>[administrative, assistant]</td>\n",
       "    </tr>\n",
       "    <tr>\n",
       "      <th>4</th>\n",
       "      <td>Communications Intern</td>\n",
       "      <td>\\n                Human Rights Watch\\n        ...</td>\n",
       "      <td>\\n              Brussels, Brussels Region, Bel...</td>\n",
       "      <td>\\n\\n            Seniority level\\n          \\n\\...</td>\n",
       "      <td>\\n\\n            Seniority level\\n          \\n\\...</td>\n",
       "      <td>https://be.linkedin.com/jobs/view/communicatio...</td>\n",
       "      <td>\\n\\n            seniority level\\n          \\n\\...</td>\n",
       "      <td>\\n\\n            seniority level\\n          \\n\\...</td>\n",
       "      <td>\\n                human rights watch\\n        ...</td>\n",
       "      <td>\\n              brussels, brussels region, bel...</td>\n",
       "      <td>...</td>\n",
       "      <td>[seniority, level, internship]</td>\n",
       "      <td>[seniority, level, internship]</td>\n",
       "      <td>[brussels, brussels, region, belgium]</td>\n",
       "      <td>[human, rights, watch]</td>\n",
       "      <td>[communications, intern]</td>\n",
       "      <td>[seniority, level, internship]</td>\n",
       "      <td>[seniority, level, internship]</td>\n",
       "      <td>[brussels, brussels, region, belgium]</td>\n",
       "      <td>[human, rights, watch]</td>\n",
       "      <td>[communications, intern]</td>\n",
       "    </tr>\n",
       "    <tr>\n",
       "      <th>...</th>\n",
       "      <td>...</td>\n",
       "      <td>...</td>\n",
       "      <td>...</td>\n",
       "      <td>...</td>\n",
       "      <td>...</td>\n",
       "      <td>...</td>\n",
       "      <td>...</td>\n",
       "      <td>...</td>\n",
       "      <td>...</td>\n",
       "      <td>...</td>\n",
       "      <td>...</td>\n",
       "      <td>...</td>\n",
       "      <td>...</td>\n",
       "      <td>...</td>\n",
       "      <td>...</td>\n",
       "      <td>...</td>\n",
       "      <td>...</td>\n",
       "      <td>...</td>\n",
       "      <td>...</td>\n",
       "      <td>...</td>\n",
       "      <td>...</td>\n",
       "    </tr>\n",
       "    <tr>\n",
       "      <th>3308</th>\n",
       "      <td>Logistics Officer</td>\n",
       "      <td>\\n                Jebsen Group\\n</td>\n",
       "      <td>\\n              Hong Kong, Hong Kong SAR\\n    ...</td>\n",
       "      <td>Coordinate and monitor the delivery team to en...</td>\n",
       "      <td>F.7 or aboveDiploma in Logistics or Supply Cha...</td>\n",
       "      <td>https://hk.linkedin.com/jobs/view/logistics-of...</td>\n",
       "      <td>f.7 or abovediploma in logistics or supply cha...</td>\n",
       "      <td>coordinate and monitor the delivery team to en...</td>\n",
       "      <td>\\n                jebsen group\\n</td>\n",
       "      <td>\\n              hong kong, hong kong sar\\n    ...</td>\n",
       "      <td>...</td>\n",
       "      <td>[f7, or, abovediploma, in, logistics, or, supp...</td>\n",
       "      <td>[coordinate, and, monitor, the, delivery, team...</td>\n",
       "      <td>[hong, kong, hong, kong, sar]</td>\n",
       "      <td>[jebsen, group]</td>\n",
       "      <td>[logistics, officer]</td>\n",
       "      <td>[f7, abovediploma, logistics, supply, chain, m...</td>\n",
       "      <td>[coordinate, monitor, delivery, team, ensure, ...</td>\n",
       "      <td>[hong, kong, hong, kong, sar]</td>\n",
       "      <td>[jebsen, group]</td>\n",
       "      <td>[logistics, officer]</td>\n",
       "    </tr>\n",
       "    <tr>\n",
       "      <th>3309</th>\n",
       "      <td>Asia Fixed Income Desk Strats, Associate/VP</td>\n",
       "      <td>\\n                Morgan Stanley\\n</td>\n",
       "      <td>\\n              Hong Kong, Hong Kong SAR\\n    ...</td>\n",
       "      <td>Developing and supporting the trading desks’ p...</td>\n",
       "      <td>Developing and supporting the trading desks’ p...</td>\n",
       "      <td>https://hk.linkedin.com/jobs/view/asia-fixed-i...</td>\n",
       "      <td>developing and supporting the trading desks’ p...</td>\n",
       "      <td>developing and supporting the trading desks’ p...</td>\n",
       "      <td>\\n                morgan stanley\\n</td>\n",
       "      <td>\\n              hong kong, hong kong sar\\n    ...</td>\n",
       "      <td>...</td>\n",
       "      <td>[developing, and, supporting, the, trading, de...</td>\n",
       "      <td>[developing, and, supporting, the, trading, de...</td>\n",
       "      <td>[hong, kong, hong, kong, sar]</td>\n",
       "      <td>[morgan, stanley]</td>\n",
       "      <td>[asia, fixed, income, desk, strats, associatevp]</td>\n",
       "      <td>[developing, supporting, trading, desks, ’, pr...</td>\n",
       "      <td>[developing, supporting, trading, desks, ’, pr...</td>\n",
       "      <td>[hong, kong, hong, kong, sar]</td>\n",
       "      <td>[morgan, stanley]</td>\n",
       "      <td>[asia, fixed, income, desk, strats, associatevp]</td>\n",
       "    </tr>\n",
       "    <tr>\n",
       "      <th>3310</th>\n",
       "      <td>Business Analyst</td>\n",
       "      <td>\\n                Cognizant\\n</td>\n",
       "      <td>\\n              Hong Kong, Hong Kong SAR\\n    ...</td>\n",
       "      <td>Responsible for understanding and executing th...</td>\n",
       "      <td>Minimum 3 years of experience working in the o...</td>\n",
       "      <td>https://hk.linkedin.com/jobs/view/business-ana...</td>\n",
       "      <td>minimum 3 years of experience working in the o...</td>\n",
       "      <td>responsible for understanding and executing th...</td>\n",
       "      <td>\\n                cognizant\\n</td>\n",
       "      <td>\\n              hong kong, hong kong sar\\n    ...</td>\n",
       "      <td>...</td>\n",
       "      <td>[minimum, 3, years, of, experience, working, i...</td>\n",
       "      <td>[responsible, for, understanding, and, executi...</td>\n",
       "      <td>[hong, kong, hong, kong, sar]</td>\n",
       "      <td>[cognizant]</td>\n",
       "      <td>[business, analyst]</td>\n",
       "      <td>[minimum, 3, years, experience, working, onlin...</td>\n",
       "      <td>[responsible, understanding, executing, strate...</td>\n",
       "      <td>[hong, kong, hong, kong, sar]</td>\n",
       "      <td>[cognizant]</td>\n",
       "      <td>[business, analyst]</td>\n",
       "    </tr>\n",
       "    <tr>\n",
       "      <th>3311</th>\n",
       "      <td>Translator</td>\n",
       "      <td>\\n                Deacons\\n</td>\n",
       "      <td>\\n              Hong Kong, Hong Kong SAR\\n    ...</td>\n",
       "      <td>\\n\\n            Seniority level\\n          \\n\\...</td>\n",
       "      <td>\\n\\n            Seniority level\\n          \\n\\...</td>\n",
       "      <td>https://hk.linkedin.com/jobs/view/translator-a...</td>\n",
       "      <td>\\n\\n            seniority level\\n          \\n\\...</td>\n",
       "      <td>\\n\\n            seniority level\\n          \\n\\...</td>\n",
       "      <td>\\n                deacons\\n</td>\n",
       "      <td>\\n              hong kong, hong kong sar\\n    ...</td>\n",
       "      <td>...</td>\n",
       "      <td>[seniority, level, entry, level, seniority, le...</td>\n",
       "      <td>[seniority, level, entry, level, seniority, le...</td>\n",
       "      <td>[hong, kong, hong, kong, sar]</td>\n",
       "      <td>[deacons]</td>\n",
       "      <td>[translator]</td>\n",
       "      <td>[seniority, level, entry, level, seniority, le...</td>\n",
       "      <td>[seniority, level, entry, level, seniority, le...</td>\n",
       "      <td>[hong, kong, hong, kong, sar]</td>\n",
       "      <td>[deacons]</td>\n",
       "      <td>[translator]</td>\n",
       "    </tr>\n",
       "    <tr>\n",
       "      <th>3312</th>\n",
       "      <td>Healthcare PE Analyst</td>\n",
       "      <td>\\n                Morgan McKinley\\n</td>\n",
       "      <td>\\n              Hong Kong, Hong Kong SAR\\n    ...</td>\n",
       "      <td>Conduct research from primary literature, prop...</td>\n",
       "      <td>PhD in biology / chemistry / related field or ...</td>\n",
       "      <td>https://hk.linkedin.com/jobs/view/healthcare-p...</td>\n",
       "      <td>phd in biology / chemistry / related field or ...</td>\n",
       "      <td>conduct research from primary literature, prop...</td>\n",
       "      <td>\\n                morgan mckinley\\n</td>\n",
       "      <td>\\n              hong kong, hong kong sar\\n    ...</td>\n",
       "      <td>...</td>\n",
       "      <td>[phd, in, biology, chemistry, related, field, ...</td>\n",
       "      <td>[conduct, research, from, primary, literature,...</td>\n",
       "      <td>[hong, kong, hong, kong, sar]</td>\n",
       "      <td>[morgan, mckinley]</td>\n",
       "      <td>[healthcare, pe, analyst]</td>\n",
       "      <td>[phd, biology, chemistry, related, field, medi...</td>\n",
       "      <td>[conduct, research, primary, literature, propr...</td>\n",
       "      <td>[hong, kong, hong, kong, sar]</td>\n",
       "      <td>[morgan, mckinley]</td>\n",
       "      <td>[healthcare, pe, analyst]</td>\n",
       "    </tr>\n",
       "  </tbody>\n",
       "</table>\n",
       "<p>3313 rows × 26 columns</p>\n",
       "</div>"
      ],
      "text/plain": [
       "                                          work_position  \\\n",
       "0            Associate Director / Senior Policy Analyst   \n",
       "1     Public Affairs & Government Relations Speciali...   \n",
       "2                                    Investment Analyst   \n",
       "3                              Administrative Assistant   \n",
       "4                                 Communications Intern   \n",
       "...                                                 ...   \n",
       "3308                                  Logistics Officer   \n",
       "3309        Asia Fixed Income Desk Strats, Associate/VP   \n",
       "3310                                   Business Analyst   \n",
       "3311                                         Translator   \n",
       "3312                              Healthcare PE Analyst   \n",
       "\n",
       "                                           company_name  \\\n",
       "0     \\n                European Policy Centre\\n    ...   \n",
       "1              \\n                Boeing\\n                 \n",
       "2              \\n                Straco\\n                 \n",
       "3     \\n                Langerman Diamonds\\n        ...   \n",
       "4     \\n                Human Rights Watch\\n        ...   \n",
       "...                                                 ...   \n",
       "3308     \\n                Jebsen Group\\n                 \n",
       "3309   \\n                Morgan Stanley\\n                 \n",
       "3310        \\n                Cognizant\\n                 \n",
       "3311          \\n                Deacons\\n                 \n",
       "3312  \\n                Morgan McKinley\\n                 \n",
       "\n",
       "                                               location  \\\n",
       "0     \\n              Brussels, Brussels Region, Bel...   \n",
       "1     \\n              Brussels, Brussels Region, Bel...   \n",
       "2     \\n              Ghent Metropolitan Area\\n     ...   \n",
       "3        \\n              Antwerp, Belgium\\n               \n",
       "4     \\n              Brussels, Brussels Region, Bel...   \n",
       "...                                                 ...   \n",
       "3308  \\n              Hong Kong, Hong Kong SAR\\n    ...   \n",
       "3309  \\n              Hong Kong, Hong Kong SAR\\n    ...   \n",
       "3310  \\n              Hong Kong, Hong Kong SAR\\n    ...   \n",
       "3311  \\n              Hong Kong, Hong Kong SAR\\n    ...   \n",
       "3312  \\n              Hong Kong, Hong Kong SAR\\n    ...   \n",
       "\n",
       "                                       Responsibilities  \\\n",
       "0     university degree in a relevant subject and po...   \n",
       "1     Track and analyze pending and existing legisla...   \n",
       "2     Conducting market and industry research;Review...   \n",
       "3     \\n\\n          Employment type\\n        \\n\\n   ...   \n",
       "4     \\n\\n            Seniority level\\n          \\n\\...   \n",
       "...                                                 ...   \n",
       "3308  Coordinate and monitor the delivery team to en...   \n",
       "3309  Developing and supporting the trading desks’ p...   \n",
       "3310  Responsible for understanding and executing th...   \n",
       "3311  \\n\\n            Seniority level\\n          \\n\\...   \n",
       "3312  Conduct research from primary literature, prop...   \n",
       "\n",
       "                                           Requirements  \\\n",
       "0     university degree in a relevant subject and po...   \n",
       "1     Bachelor's degree or higher in international r...   \n",
       "2     Conducting market and industry researchReview ...   \n",
       "3     An Associate degree or Professional Bachelor's...   \n",
       "4     \\n\\n            Seniority level\\n          \\n\\...   \n",
       "...                                                 ...   \n",
       "3308  F.7 or aboveDiploma in Logistics or Supply Cha...   \n",
       "3309  Developing and supporting the trading desks’ p...   \n",
       "3310  Minimum 3 years of experience working in the o...   \n",
       "3311  \\n\\n            Seniority level\\n          \\n\\...   \n",
       "3312  PhD in biology / chemistry / related field or ...   \n",
       "\n",
       "                                                   link  \\\n",
       "0     https://be.linkedin.com/jobs/view/associate-di...   \n",
       "1     https://be.linkedin.com/jobs/view/public-affai...   \n",
       "2     https://be.linkedin.com/jobs/view/investment-a...   \n",
       "3     https://be.linkedin.com/jobs/view/administrati...   \n",
       "4     https://be.linkedin.com/jobs/view/communicatio...   \n",
       "...                                                 ...   \n",
       "3308  https://hk.linkedin.com/jobs/view/logistics-of...   \n",
       "3309  https://hk.linkedin.com/jobs/view/asia-fixed-i...   \n",
       "3310  https://hk.linkedin.com/jobs/view/business-ana...   \n",
       "3311  https://hk.linkedin.com/jobs/view/translator-a...   \n",
       "3312  https://hk.linkedin.com/jobs/view/healthcare-p...   \n",
       "\n",
       "                                     Requirements_lower  \\\n",
       "0     university degree in a relevant subject and po...   \n",
       "1     bachelor's degree or higher in international r...   \n",
       "2     conducting market and industry researchreview ...   \n",
       "3     an associate degree or professional bachelor's...   \n",
       "4     \\n\\n            seniority level\\n          \\n\\...   \n",
       "...                                                 ...   \n",
       "3308  f.7 or abovediploma in logistics or supply cha...   \n",
       "3309  developing and supporting the trading desks’ p...   \n",
       "3310  minimum 3 years of experience working in the o...   \n",
       "3311  \\n\\n            seniority level\\n          \\n\\...   \n",
       "3312  phd in biology / chemistry / related field or ...   \n",
       "\n",
       "                                 Responsibilities_lower  \\\n",
       "0     university degree in a relevant subject and po...   \n",
       "1     track and analyze pending and existing legisla...   \n",
       "2     conducting market and industry research;review...   \n",
       "3     \\n\\n          employment type\\n        \\n\\n   ...   \n",
       "4     \\n\\n            seniority level\\n          \\n\\...   \n",
       "...                                                 ...   \n",
       "3308  coordinate and monitor the delivery team to en...   \n",
       "3309  developing and supporting the trading desks’ p...   \n",
       "3310  responsible for understanding and executing th...   \n",
       "3311  \\n\\n            seniority level\\n          \\n\\...   \n",
       "3312  conduct research from primary literature, prop...   \n",
       "\n",
       "                                     company_name_lower  \\\n",
       "0     \\n                european policy centre\\n    ...   \n",
       "1              \\n                boeing\\n                 \n",
       "2              \\n                straco\\n                 \n",
       "3     \\n                langerman diamonds\\n        ...   \n",
       "4     \\n                human rights watch\\n        ...   \n",
       "...                                                 ...   \n",
       "3308     \\n                jebsen group\\n                 \n",
       "3309   \\n                morgan stanley\\n                 \n",
       "3310        \\n                cognizant\\n                 \n",
       "3311          \\n                deacons\\n                 \n",
       "3312  \\n                morgan mckinley\\n                 \n",
       "\n",
       "                                         location_lower  ...  \\\n",
       "0     \\n              brussels, brussels region, bel...  ...   \n",
       "1     \\n              brussels, brussels region, bel...  ...   \n",
       "2     \\n              ghent metropolitan area\\n     ...  ...   \n",
       "3        \\n              antwerp, belgium\\n              ...   \n",
       "4     \\n              brussels, brussels region, bel...  ...   \n",
       "...                                                 ...  ...   \n",
       "3308  \\n              hong kong, hong kong sar\\n    ...  ...   \n",
       "3309  \\n              hong kong, hong kong sar\\n    ...  ...   \n",
       "3310  \\n              hong kong, hong kong sar\\n    ...  ...   \n",
       "3311  \\n              hong kong, hong kong sar\\n    ...  ...   \n",
       "3312  \\n              hong kong, hong kong sar\\n    ...  ...   \n",
       "\n",
       "                                 Requirements_tokenized  \\\n",
       "0     [university, degree, in, a, relevant, subject,...   \n",
       "1     [bachelors, degree, or, higher, in, internatio...   \n",
       "2     [conducting, market, and, industry, researchre...   \n",
       "3     [an, associate, degree, or, professional, bach...   \n",
       "4                        [seniority, level, internship]   \n",
       "...                                                 ...   \n",
       "3308  [f7, or, abovediploma, in, logistics, or, supp...   \n",
       "3309  [developing, and, supporting, the, trading, de...   \n",
       "3310  [minimum, 3, years, of, experience, working, i...   \n",
       "3311  [seniority, level, entry, level, seniority, le...   \n",
       "3312  [phd, in, biology, chemistry, related, field, ...   \n",
       "\n",
       "                            Responsibilities__tokenized  \\\n",
       "0     [university, degree, in, a, relevant, subject,...   \n",
       "1     [track, and, analyze, pending, and, existing, ...   \n",
       "2     [conducting, market, and, industry, researchre...   \n",
       "3                          [employment, type, fulltime]   \n",
       "4                        [seniority, level, internship]   \n",
       "...                                                 ...   \n",
       "3308  [coordinate, and, monitor, the, delivery, team...   \n",
       "3309  [developing, and, supporting, the, trading, de...   \n",
       "3310  [responsible, for, understanding, and, executi...   \n",
       "3311  [seniority, level, entry, level, seniority, le...   \n",
       "3312  [conduct, research, from, primary, literature,...   \n",
       "\n",
       "                         location_tokenized      company_name_tokenized  \\\n",
       "0     [brussels, brussels, region, belgium]  [european, policy, centre]   \n",
       "1     [brussels, brussels, region, belgium]                    [boeing]   \n",
       "2               [ghent, metropolitan, area]                    [straco]   \n",
       "3                        [antwerp, belgium]       [langerman, diamonds]   \n",
       "4     [brussels, brussels, region, belgium]      [human, rights, watch]   \n",
       "...                                     ...                         ...   \n",
       "3308          [hong, kong, hong, kong, sar]             [jebsen, group]   \n",
       "3309          [hong, kong, hong, kong, sar]           [morgan, stanley]   \n",
       "3310          [hong, kong, hong, kong, sar]                 [cognizant]   \n",
       "3311          [hong, kong, hong, kong, sar]                   [deacons]   \n",
       "3312          [hong, kong, hong, kong, sar]          [morgan, mckinley]   \n",
       "\n",
       "                                work_position_tokenized  \\\n",
       "0        [associate, director, senior, policy, analyst]   \n",
       "1     [public, affairs, government, relations, speci...   \n",
       "2                                 [investment, analyst]   \n",
       "3                           [administrative, assistant]   \n",
       "4                              [communications, intern]   \n",
       "...                                                 ...   \n",
       "3308                               [logistics, officer]   \n",
       "3309   [asia, fixed, income, desk, strats, associatevp]   \n",
       "3310                                [business, analyst]   \n",
       "3311                                       [translator]   \n",
       "3312                          [healthcare, pe, analyst]   \n",
       "\n",
       "                                   Requirements_stpword  \\\n",
       "0     [university, degree, relevant, subject, postgr...   \n",
       "1     [bachelors, degree, higher, international, rel...   \n",
       "2     [conducting, market, industry, researchreview,...   \n",
       "3     [associate, degree, professional, bachelors, d...   \n",
       "4                        [seniority, level, internship]   \n",
       "...                                                 ...   \n",
       "3308  [f7, abovediploma, logistics, supply, chain, m...   \n",
       "3309  [developing, supporting, trading, desks, ’, pr...   \n",
       "3310  [minimum, 3, years, experience, working, onlin...   \n",
       "3311  [seniority, level, entry, level, seniority, le...   \n",
       "3312  [phd, biology, chemistry, related, field, medi...   \n",
       "\n",
       "                               Responsibilities_stpword  \\\n",
       "0     [university, degree, relevant, subject, postgr...   \n",
       "1     [track, analyze, pending, existing, legislatio...   \n",
       "2     [conducting, market, industry, researchreview,...   \n",
       "3                          [employment, type, fulltime]   \n",
       "4                        [seniority, level, internship]   \n",
       "...                                                 ...   \n",
       "3308  [coordinate, monitor, delivery, team, ensure, ...   \n",
       "3309  [developing, supporting, trading, desks, ’, pr...   \n",
       "3310  [responsible, understanding, executing, strate...   \n",
       "3311  [seniority, level, entry, level, seniority, le...   \n",
       "3312  [conduct, research, primary, literature, propr...   \n",
       "\n",
       "                           location_stpword        company_name_stpword  \\\n",
       "0     [brussels, brussels, region, belgium]  [european, policy, centre]   \n",
       "1     [brussels, brussels, region, belgium]                    [boeing]   \n",
       "2               [ghent, metropolitan, area]                    [straco]   \n",
       "3                        [antwerp, belgium]       [langerman, diamonds]   \n",
       "4     [brussels, brussels, region, belgium]      [human, rights, watch]   \n",
       "...                                     ...                         ...   \n",
       "3308          [hong, kong, hong, kong, sar]             [jebsen, group]   \n",
       "3309          [hong, kong, hong, kong, sar]           [morgan, stanley]   \n",
       "3310          [hong, kong, hong, kong, sar]                 [cognizant]   \n",
       "3311          [hong, kong, hong, kong, sar]                   [deacons]   \n",
       "3312          [hong, kong, hong, kong, sar]          [morgan, mckinley]   \n",
       "\n",
       "                                  work_position_stpword  \n",
       "0        [associate, director, senior, policy, analyst]  \n",
       "1     [public, affairs, government, relations, speci...  \n",
       "2                                 [investment, analyst]  \n",
       "3                           [administrative, assistant]  \n",
       "4                              [communications, intern]  \n",
       "...                                                 ...  \n",
       "3308                               [logistics, officer]  \n",
       "3309   [asia, fixed, income, desk, strats, associatevp]  \n",
       "3310                                [business, analyst]  \n",
       "3311                                       [translator]  \n",
       "3312                          [healthcare, pe, analyst]  \n",
       "\n",
       "[3313 rows x 26 columns]"
      ]
     },
     "execution_count": 97,
     "metadata": {},
     "output_type": "execute_result"
    }
   ],
   "source": [
    "df"
   ]
  },
  {
   "cell_type": "code",
   "execution_count": 98,
   "metadata": {},
   "outputs": [
    {
     "data": {
      "text/plain": [
       "Index(['work_position', 'company_name', 'location', 'Responsibilities',\n",
       "       'Requirements', 'link', 'Requirements_lower', 'Responsibilities_lower',\n",
       "       'company_name_lower', 'location_lower', 'work_position_lower',\n",
       "       'Requirements_ponctuation', 'Responsibilities_ponctuation',\n",
       "       'company_name_ponctuation', 'location_ponctuation',\n",
       "       'work_position_ponctuation', 'Requirements_tokenized',\n",
       "       'Responsibilities__tokenized', 'location_tokenized',\n",
       "       'company_name_tokenized', 'work_position_tokenized',\n",
       "       'Requirements_stpword', 'Responsibilities_stpword', 'location_stpword',\n",
       "       'company_name_stpword', 'work_position_stpword'],\n",
       "      dtype='object')"
      ]
     },
     "execution_count": 98,
     "metadata": {},
     "output_type": "execute_result"
    }
   ],
   "source": [
    "df.columns"
   ]
  },
  {
   "cell_type": "code",
   "execution_count": 99,
   "metadata": {},
   "outputs": [],
   "source": [
    "del df['work_position']\n",
    "del df['company_name']\n",
    "del df['location']\n",
    "del df['Responsibilities']\n",
    "del df['Requirements']\n",
    "del df['Requirements_lower']\n",
    "del df['Responsibilities_lower']\n",
    "del df['company_name_lower']\n",
    "del df['location_lower']\n",
    "del df['work_position_lower']\n",
    "del df['Requirements_ponctuation']\n",
    "del df['Responsibilities_ponctuation']\n",
    "del df['company_name_ponctuation']\n",
    "del df['location_ponctuation']\n",
    "del df['work_position_ponctuation']\n",
    "del df['Requirements_tokenized']\n",
    "del df['Responsibilities__tokenized']\n",
    "del df['location_tokenized']\n",
    "del df['company_name_tokenized']\n",
    "del df['work_position_tokenized']"
   ]
  },
  {
   "cell_type": "code",
   "execution_count": 100,
   "metadata": {},
   "outputs": [
    {
     "data": {
      "text/html": [
       "<div>\n",
       "<style scoped>\n",
       "    .dataframe tbody tr th:only-of-type {\n",
       "        vertical-align: middle;\n",
       "    }\n",
       "\n",
       "    .dataframe tbody tr th {\n",
       "        vertical-align: top;\n",
       "    }\n",
       "\n",
       "    .dataframe thead th {\n",
       "        text-align: right;\n",
       "    }\n",
       "</style>\n",
       "<table border=\"1\" class=\"dataframe\">\n",
       "  <thead>\n",
       "    <tr style=\"text-align: right;\">\n",
       "      <th></th>\n",
       "      <th>link</th>\n",
       "      <th>Requirements_stpword</th>\n",
       "      <th>Responsibilities_stpword</th>\n",
       "      <th>location_stpword</th>\n",
       "      <th>company_name_stpword</th>\n",
       "      <th>work_position_stpword</th>\n",
       "    </tr>\n",
       "  </thead>\n",
       "  <tbody>\n",
       "    <tr>\n",
       "      <th>0</th>\n",
       "      <td>https://be.linkedin.com/jobs/view/associate-di...</td>\n",
       "      <td>[university, degree, relevant, subject, postgr...</td>\n",
       "      <td>[university, degree, relevant, subject, postgr...</td>\n",
       "      <td>[brussels, brussels, region, belgium]</td>\n",
       "      <td>[european, policy, centre]</td>\n",
       "      <td>[associate, director, senior, policy, analyst]</td>\n",
       "    </tr>\n",
       "    <tr>\n",
       "      <th>1</th>\n",
       "      <td>https://be.linkedin.com/jobs/view/public-affai...</td>\n",
       "      <td>[bachelors, degree, higher, international, rel...</td>\n",
       "      <td>[track, analyze, pending, existing, legislatio...</td>\n",
       "      <td>[brussels, brussels, region, belgium]</td>\n",
       "      <td>[boeing]</td>\n",
       "      <td>[public, affairs, government, relations, speci...</td>\n",
       "    </tr>\n",
       "    <tr>\n",
       "      <th>2</th>\n",
       "      <td>https://be.linkedin.com/jobs/view/investment-a...</td>\n",
       "      <td>[conducting, market, industry, researchreview,...</td>\n",
       "      <td>[conducting, market, industry, researchreview,...</td>\n",
       "      <td>[ghent, metropolitan, area]</td>\n",
       "      <td>[straco]</td>\n",
       "      <td>[investment, analyst]</td>\n",
       "    </tr>\n",
       "    <tr>\n",
       "      <th>3</th>\n",
       "      <td>https://be.linkedin.com/jobs/view/administrati...</td>\n",
       "      <td>[associate, degree, professional, bachelors, d...</td>\n",
       "      <td>[employment, type, fulltime]</td>\n",
       "      <td>[antwerp, belgium]</td>\n",
       "      <td>[langerman, diamonds]</td>\n",
       "      <td>[administrative, assistant]</td>\n",
       "    </tr>\n",
       "    <tr>\n",
       "      <th>4</th>\n",
       "      <td>https://be.linkedin.com/jobs/view/communicatio...</td>\n",
       "      <td>[seniority, level, internship]</td>\n",
       "      <td>[seniority, level, internship]</td>\n",
       "      <td>[brussels, brussels, region, belgium]</td>\n",
       "      <td>[human, rights, watch]</td>\n",
       "      <td>[communications, intern]</td>\n",
       "    </tr>\n",
       "    <tr>\n",
       "      <th>...</th>\n",
       "      <td>...</td>\n",
       "      <td>...</td>\n",
       "      <td>...</td>\n",
       "      <td>...</td>\n",
       "      <td>...</td>\n",
       "      <td>...</td>\n",
       "    </tr>\n",
       "    <tr>\n",
       "      <th>3308</th>\n",
       "      <td>https://hk.linkedin.com/jobs/view/logistics-of...</td>\n",
       "      <td>[f7, abovediploma, logistics, supply, chain, m...</td>\n",
       "      <td>[coordinate, monitor, delivery, team, ensure, ...</td>\n",
       "      <td>[hong, kong, hong, kong, sar]</td>\n",
       "      <td>[jebsen, group]</td>\n",
       "      <td>[logistics, officer]</td>\n",
       "    </tr>\n",
       "    <tr>\n",
       "      <th>3309</th>\n",
       "      <td>https://hk.linkedin.com/jobs/view/asia-fixed-i...</td>\n",
       "      <td>[developing, supporting, trading, desks, ’, pr...</td>\n",
       "      <td>[developing, supporting, trading, desks, ’, pr...</td>\n",
       "      <td>[hong, kong, hong, kong, sar]</td>\n",
       "      <td>[morgan, stanley]</td>\n",
       "      <td>[asia, fixed, income, desk, strats, associatevp]</td>\n",
       "    </tr>\n",
       "    <tr>\n",
       "      <th>3310</th>\n",
       "      <td>https://hk.linkedin.com/jobs/view/business-ana...</td>\n",
       "      <td>[minimum, 3, years, experience, working, onlin...</td>\n",
       "      <td>[responsible, understanding, executing, strate...</td>\n",
       "      <td>[hong, kong, hong, kong, sar]</td>\n",
       "      <td>[cognizant]</td>\n",
       "      <td>[business, analyst]</td>\n",
       "    </tr>\n",
       "    <tr>\n",
       "      <th>3311</th>\n",
       "      <td>https://hk.linkedin.com/jobs/view/translator-a...</td>\n",
       "      <td>[seniority, level, entry, level, seniority, le...</td>\n",
       "      <td>[seniority, level, entry, level, seniority, le...</td>\n",
       "      <td>[hong, kong, hong, kong, sar]</td>\n",
       "      <td>[deacons]</td>\n",
       "      <td>[translator]</td>\n",
       "    </tr>\n",
       "    <tr>\n",
       "      <th>3312</th>\n",
       "      <td>https://hk.linkedin.com/jobs/view/healthcare-p...</td>\n",
       "      <td>[phd, biology, chemistry, related, field, medi...</td>\n",
       "      <td>[conduct, research, primary, literature, propr...</td>\n",
       "      <td>[hong, kong, hong, kong, sar]</td>\n",
       "      <td>[morgan, mckinley]</td>\n",
       "      <td>[healthcare, pe, analyst]</td>\n",
       "    </tr>\n",
       "  </tbody>\n",
       "</table>\n",
       "<p>3313 rows × 6 columns</p>\n",
       "</div>"
      ],
      "text/plain": [
       "                                                   link  \\\n",
       "0     https://be.linkedin.com/jobs/view/associate-di...   \n",
       "1     https://be.linkedin.com/jobs/view/public-affai...   \n",
       "2     https://be.linkedin.com/jobs/view/investment-a...   \n",
       "3     https://be.linkedin.com/jobs/view/administrati...   \n",
       "4     https://be.linkedin.com/jobs/view/communicatio...   \n",
       "...                                                 ...   \n",
       "3308  https://hk.linkedin.com/jobs/view/logistics-of...   \n",
       "3309  https://hk.linkedin.com/jobs/view/asia-fixed-i...   \n",
       "3310  https://hk.linkedin.com/jobs/view/business-ana...   \n",
       "3311  https://hk.linkedin.com/jobs/view/translator-a...   \n",
       "3312  https://hk.linkedin.com/jobs/view/healthcare-p...   \n",
       "\n",
       "                                   Requirements_stpword  \\\n",
       "0     [university, degree, relevant, subject, postgr...   \n",
       "1     [bachelors, degree, higher, international, rel...   \n",
       "2     [conducting, market, industry, researchreview,...   \n",
       "3     [associate, degree, professional, bachelors, d...   \n",
       "4                        [seniority, level, internship]   \n",
       "...                                                 ...   \n",
       "3308  [f7, abovediploma, logistics, supply, chain, m...   \n",
       "3309  [developing, supporting, trading, desks, ’, pr...   \n",
       "3310  [minimum, 3, years, experience, working, onlin...   \n",
       "3311  [seniority, level, entry, level, seniority, le...   \n",
       "3312  [phd, biology, chemistry, related, field, medi...   \n",
       "\n",
       "                               Responsibilities_stpword  \\\n",
       "0     [university, degree, relevant, subject, postgr...   \n",
       "1     [track, analyze, pending, existing, legislatio...   \n",
       "2     [conducting, market, industry, researchreview,...   \n",
       "3                          [employment, type, fulltime]   \n",
       "4                        [seniority, level, internship]   \n",
       "...                                                 ...   \n",
       "3308  [coordinate, monitor, delivery, team, ensure, ...   \n",
       "3309  [developing, supporting, trading, desks, ’, pr...   \n",
       "3310  [responsible, understanding, executing, strate...   \n",
       "3311  [seniority, level, entry, level, seniority, le...   \n",
       "3312  [conduct, research, primary, literature, propr...   \n",
       "\n",
       "                           location_stpword        company_name_stpword  \\\n",
       "0     [brussels, brussels, region, belgium]  [european, policy, centre]   \n",
       "1     [brussels, brussels, region, belgium]                    [boeing]   \n",
       "2               [ghent, metropolitan, area]                    [straco]   \n",
       "3                        [antwerp, belgium]       [langerman, diamonds]   \n",
       "4     [brussels, brussels, region, belgium]      [human, rights, watch]   \n",
       "...                                     ...                         ...   \n",
       "3308          [hong, kong, hong, kong, sar]             [jebsen, group]   \n",
       "3309          [hong, kong, hong, kong, sar]           [morgan, stanley]   \n",
       "3310          [hong, kong, hong, kong, sar]                 [cognizant]   \n",
       "3311          [hong, kong, hong, kong, sar]                   [deacons]   \n",
       "3312          [hong, kong, hong, kong, sar]          [morgan, mckinley]   \n",
       "\n",
       "                                  work_position_stpword  \n",
       "0        [associate, director, senior, policy, analyst]  \n",
       "1     [public, affairs, government, relations, speci...  \n",
       "2                                 [investment, analyst]  \n",
       "3                           [administrative, assistant]  \n",
       "4                              [communications, intern]  \n",
       "...                                                 ...  \n",
       "3308                               [logistics, officer]  \n",
       "3309   [asia, fixed, income, desk, strats, associatevp]  \n",
       "3310                                [business, analyst]  \n",
       "3311                                       [translator]  \n",
       "3312                          [healthcare, pe, analyst]  \n",
       "\n",
       "[3313 rows x 6 columns]"
      ]
     },
     "execution_count": 100,
     "metadata": {},
     "output_type": "execute_result"
    }
   ],
   "source": [
    "df"
   ]
  },
  {
   "cell_type": "markdown",
   "metadata": {},
   "source": [
    "# Sauvgarde du dataframe dans la machine"
   ]
  },
  {
   "cell_type": "code",
   "execution_count": 101,
   "metadata": {},
   "outputs": [],
   "source": [
    "df.to_csv(r\"C:\\Users\\dell\\Desktop\\PFE\\DATA\\data.csv\",index=False)"
   ]
  },
  {
   "cell_type": "code",
   "execution_count": 144,
   "metadata": {},
   "outputs": [],
   "source": [
    "df1.to_csv(r\"C:\\Users\\dell\\Desktop\\FOLDER\\data_links.csv\",index=False)"
   ]
  }
 ],
 "metadata": {
  "kernelspec": {
   "display_name": "Python 3",
   "language": "python",
   "name": "python3"
  },
  "language_info": {
   "codemirror_mode": {
    "name": "ipython",
    "version": 3
   },
   "file_extension": ".py",
   "mimetype": "text/x-python",
   "name": "python",
   "nbconvert_exporter": "python",
   "pygments_lexer": "ipython3",
   "version": "3.8.5"
  }
 },
 "nbformat": 4,
 "nbformat_minor": 2
}
